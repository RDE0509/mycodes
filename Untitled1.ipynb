{
  "nbformat": 4,
  "nbformat_minor": 0,
  "metadata": {
    "colab": {
      "provenance": [],
      "authorship_tag": "ABX9TyNWJfQ7b2ibWFWCljOkuhWN",
      "include_colab_link": true
    },
    "kernelspec": {
      "name": "python3",
      "display_name": "Python 3"
    },
    "language_info": {
      "name": "python"
    }
  },
  "cells": [
    {
      "cell_type": "markdown",
      "metadata": {
        "id": "view-in-github",
        "colab_type": "text"
      },
      "source": [
        "<a href=\"https://colab.research.google.com/github/RDE0509/mycodes/blob/main/Untitled1.ipynb\" target=\"_parent\"><img src=\"https://colab.research.google.com/assets/colab-badge.svg\" alt=\"Open In Colab\"/></a>"
      ]
    },
    {
      "cell_type": "code",
      "execution_count": 90,
      "metadata": {
        "colab": {
          "base_uri": "https://localhost:8080/"
        },
        "id": "19CYfbfXtumN",
        "outputId": "8f975f61-0119-40a0-809d-55a061670473"
      },
      "outputs": [
        {
          "output_type": "stream",
          "name": "stdout",
          "text": [
            "Looking in indexes: https://pypi.org/simple, https://us-python.pkg.dev/colab-wheels/public/simple/\n",
            "Requirement already satisfied: pyspark in /usr/local/lib/python3.8/dist-packages (3.3.1)\n",
            "Requirement already satisfied: py4j==0.10.9.5 in /usr/local/lib/python3.8/dist-packages (from pyspark) (0.10.9.5)\n"
          ]
        }
      ],
      "source": [
        "pip install pyspark\n"
      ]
    },
    {
      "cell_type": "code",
      "source": [
        "from pyspark.sql import SparkSession\n",
        "from pyspark.sql.types import StructType,StructField,StringType,IntegerType\n",
        "from pyspark.sql.functions import col,lit,split,bround,cast\n",
        "from pyspark.sql import functions as f\n",
        "\n"
      ],
      "metadata": {
        "id": "PmQ5lDOs9Sau"
      },
      "execution_count": 111,
      "outputs": []
    },
    {
      "cell_type": "code",
      "source": [
        "spark= SparkSession.builder.appName('pyspark').getOrCreate()\n"
      ],
      "metadata": {
        "id": "m7iElxRs9a4P"
      },
      "execution_count": 38,
      "outputs": []
    },
    {
      "cell_type": "code",
      "source": [
        "data = [('10','Rohit','EE','MTech','JIT ','BHOPAL'),\n",
        "('11','Rahul','CS','MTech','BIT ','INDORE'),\n",
        "('12','Ramesh','AG','BTech','SIT ','JABALPUR'),\n",
        "('13','Renu','EC','BTech','MIT ','UJJAIN'),\n",
        "('14','Riya','CS','BTech','TIT ','BHOPAL'),\n",
        "('15','Vaishnavi','CH','BTech','KIT ','RANCHI'),\n",
        "('16','Shelly','BT','MTech','PIT ','GWALIOR'),\n",
        "('17','Ashwini','DS','MTech','RGPV ','BHOPAL'),\n",
        "('18','Sravanthi','DE','MTech','MEDICAPS ','INDORE'),\n",
        "('19','Ajay','MECH','BTech','CGDI ','INDORE'),\n",
        "('20','Karunesh','Mech','BTech','PCE ','SURAT'),\n",
        "('21','Vinita','CE','MTech','IIT ','BOMBAY'),\n",
        "('22','Ramya','EC','MTech','NIT ','JAIPUR'),\n",
        "('23','Shobhita','CS','BTech','NIT ','TRICHY'),\n",
        "('24','Vaitheeswari','HR','MBA','SDPC','DELHI'),\n",
        "('25','Manobhi','BT','MTech','NIT ','CHANDIGARH'),\n",
        "('26','Sushmita','CH','MTech','IIT ','MADRAS'),\n",
        "('27','Maya','EE','BTech','IIIT ','KANCHIPURAM'),\n",
        "('28','Mahesh','CS','MTech','KCIET ','BHUBNESHWAR'),\n",
        "('29','Sreeram','ET','BTech','MPCE ','LUCKNOW'),\n",
        "('30','Lovely','ENE','BTech','IIT ','DELHI')]"
      ],
      "metadata": {
        "id": "5HpOys0N-o6H"
      },
      "execution_count": 7,
      "outputs": []
    },
    {
      "cell_type": "code",
      "source": [
        "schema = StructType([ \\\n",
        "                     StructField('S.no',StringType(),True),\\\n",
        "                     StructField('S_Name',StringType(),True),\\\n",
        "                    StructField('Branch',StringType(),True),\\\n",
        "                     StructField('Course',StringType(),True),\\\n",
        "                     StructField('College',StringType(),True),\\\n",
        "                     StructField('Location',StringType(),True)\\\n",
        "                     ])"
      ],
      "metadata": {
        "id": "UOGi-I_j_CxC"
      },
      "execution_count": 39,
      "outputs": []
    },
    {
      "cell_type": "code",
      "source": [
        "df = spark.createDataFrame(data= data, schema= schema)"
      ],
      "metadata": {
        "id": "O9dPGKprYSD3"
      },
      "execution_count": 40,
      "outputs": []
    },
    {
      "cell_type": "code",
      "source": [
        "df.printSchema()"
      ],
      "metadata": {
        "colab": {
          "base_uri": "https://localhost:8080/"
        },
        "id": "IKxXexbnYfr_",
        "outputId": "6584b400-5056-4528-9d8d-abed5a80bf5b"
      },
      "execution_count": 41,
      "outputs": [
        {
          "output_type": "stream",
          "name": "stdout",
          "text": [
            "root\n",
            " |-- S.no: string (nullable = true)\n",
            " |-- S_Name: string (nullable = true)\n",
            " |-- Branch: string (nullable = true)\n",
            " |-- Course: string (nullable = true)\n",
            " |-- College: string (nullable = true)\n",
            " |-- Location: string (nullable = true)\n",
            "\n"
          ]
        }
      ]
    },
    {
      "cell_type": "code",
      "source": [
        "df.show()"
      ],
      "metadata": {
        "colab": {
          "base_uri": "https://localhost:8080/"
        },
        "id": "RpAUUX9DYoGC",
        "outputId": "ccb55b43-c2fc-4e29-baf3-70faae3df1c0"
      },
      "execution_count": 42,
      "outputs": [
        {
          "output_type": "stream",
          "name": "stdout",
          "text": [
            "+----+------------+------+------+---------+-----------+\n",
            "|S.no|      S_Name|Branch|Course|  College|   Location|\n",
            "+----+------------+------+------+---------+-----------+\n",
            "|  10|       Rohit|    EE| MTech|     JIT |     BHOPAL|\n",
            "|  11|       Rahul|    CS| MTech|     BIT |     INDORE|\n",
            "|  12|      Ramesh|    AG| BTech|     SIT |   JABALPUR|\n",
            "|  13|        Renu|    EC| BTech|     MIT |     UJJAIN|\n",
            "|  14|        Riya|    CS| BTech|     TIT |     BHOPAL|\n",
            "|  15|   Vaishnavi|    CH| BTech|     KIT |     RANCHI|\n",
            "|  16|      Shelly|    BT| MTech|     PIT |    GWALIOR|\n",
            "|  17|     Ashwini|    DS| MTech|    RGPV |     BHOPAL|\n",
            "|  18|   Sravanthi|    DE| MTech|MEDICAPS |     INDORE|\n",
            "|  19|        Ajay|  MECH| BTech|    CGDI |     INDORE|\n",
            "|  20|    Karunesh|  Mech| BTech|     PCE |      SURAT|\n",
            "|  21|      Vinita|    CE| MTech|     IIT |     BOMBAY|\n",
            "|  22|       Ramya|    EC| MTech|     NIT |     JAIPUR|\n",
            "|  23|    Shobhita|    CS| BTech|     NIT |     TRICHY|\n",
            "|  24|Vaitheeswari|    HR|   MBA|     SDPC|      DELHI|\n",
            "|  25|     Manobhi|    BT| MTech|     NIT | CHANDIGARH|\n",
            "|  26|    Sushmita|    CH| MTech|     IIT |     MADRAS|\n",
            "|  27|        Maya|    EE| BTech|    IIIT |KANCHIPURAM|\n",
            "|  28|      Mahesh|    CS| MTech|   KCIET |BHUBNESHWAR|\n",
            "|  29|     Sreeram|    ET| BTech|    MPCE |    LUCKNOW|\n",
            "+----+------------+------+------+---------+-----------+\n",
            "only showing top 20 rows\n",
            "\n"
          ]
        }
      ]
    },
    {
      "cell_type": "code",
      "source": [
        "df1 = df.withColumnRenamed('S_name','Student_Name')"
      ],
      "metadata": {
        "id": "oeNDbGkTZGdc"
      },
      "execution_count": 43,
      "outputs": []
    },
    {
      "cell_type": "code",
      "source": [
        "df1.show()"
      ],
      "metadata": {
        "colab": {
          "base_uri": "https://localhost:8080/"
        },
        "id": "n-aiTInFZc5l",
        "outputId": "59520405-5ef0-4633-a770-c3587dc5388a"
      },
      "execution_count": 44,
      "outputs": [
        {
          "output_type": "stream",
          "name": "stdout",
          "text": [
            "+----+------------+------+------+---------+-----------+\n",
            "|S.no|Student_Name|Branch|Course|  College|   Location|\n",
            "+----+------------+------+------+---------+-----------+\n",
            "|  10|       Rohit|    EE| MTech|     JIT |     BHOPAL|\n",
            "|  11|       Rahul|    CS| MTech|     BIT |     INDORE|\n",
            "|  12|      Ramesh|    AG| BTech|     SIT |   JABALPUR|\n",
            "|  13|        Renu|    EC| BTech|     MIT |     UJJAIN|\n",
            "|  14|        Riya|    CS| BTech|     TIT |     BHOPAL|\n",
            "|  15|   Vaishnavi|    CH| BTech|     KIT |     RANCHI|\n",
            "|  16|      Shelly|    BT| MTech|     PIT |    GWALIOR|\n",
            "|  17|     Ashwini|    DS| MTech|    RGPV |     BHOPAL|\n",
            "|  18|   Sravanthi|    DE| MTech|MEDICAPS |     INDORE|\n",
            "|  19|        Ajay|  MECH| BTech|    CGDI |     INDORE|\n",
            "|  20|    Karunesh|  Mech| BTech|     PCE |      SURAT|\n",
            "|  21|      Vinita|    CE| MTech|     IIT |     BOMBAY|\n",
            "|  22|       Ramya|    EC| MTech|     NIT |     JAIPUR|\n",
            "|  23|    Shobhita|    CS| BTech|     NIT |     TRICHY|\n",
            "|  24|Vaitheeswari|    HR|   MBA|     SDPC|      DELHI|\n",
            "|  25|     Manobhi|    BT| MTech|     NIT | CHANDIGARH|\n",
            "|  26|    Sushmita|    CH| MTech|     IIT |     MADRAS|\n",
            "|  27|        Maya|    EE| BTech|    IIIT |KANCHIPURAM|\n",
            "|  28|      Mahesh|    CS| MTech|   KCIET |BHUBNESHWAR|\n",
            "|  29|     Sreeram|    ET| BTech|    MPCE |    LUCKNOW|\n",
            "+----+------------+------+------+---------+-----------+\n",
            "only showing top 20 rows\n",
            "\n"
          ]
        }
      ]
    },
    {
      "cell_type": "code",
      "source": [
        "df1.select('Student_Name','Branch','Course').show()"
      ],
      "metadata": {
        "colab": {
          "base_uri": "https://localhost:8080/"
        },
        "id": "oh_gupopZgIu",
        "outputId": "966ea9d1-5aca-4cc0-95db-6409db587b6a"
      },
      "execution_count": 45,
      "outputs": [
        {
          "output_type": "stream",
          "name": "stdout",
          "text": [
            "+------------+------+------+\n",
            "|Student_Name|Branch|Course|\n",
            "+------------+------+------+\n",
            "|       Rohit|    EE| MTech|\n",
            "|       Rahul|    CS| MTech|\n",
            "|      Ramesh|    AG| BTech|\n",
            "|        Renu|    EC| BTech|\n",
            "|        Riya|    CS| BTech|\n",
            "|   Vaishnavi|    CH| BTech|\n",
            "|      Shelly|    BT| MTech|\n",
            "|     Ashwini|    DS| MTech|\n",
            "|   Sravanthi|    DE| MTech|\n",
            "|        Ajay|  MECH| BTech|\n",
            "|    Karunesh|  Mech| BTech|\n",
            "|      Vinita|    CE| MTech|\n",
            "|       Ramya|    EC| MTech|\n",
            "|    Shobhita|    CS| BTech|\n",
            "|Vaitheeswari|    HR|   MBA|\n",
            "|     Manobhi|    BT| MTech|\n",
            "|    Sushmita|    CH| MTech|\n",
            "|        Maya|    EE| BTech|\n",
            "|      Mahesh|    CS| MTech|\n",
            "|     Sreeram|    ET| BTech|\n",
            "+------------+------+------+\n",
            "only showing top 20 rows\n",
            "\n"
          ]
        }
      ]
    },
    {
      "cell_type": "code",
      "source": [
        "df2 = df1.withColumn('ExamForm Status',lit('Submitted'))"
      ],
      "metadata": {
        "id": "pJUZ-X2haBs-"
      },
      "execution_count": 46,
      "outputs": []
    },
    {
      "cell_type": "code",
      "source": [
        "df2.show()"
      ],
      "metadata": {
        "colab": {
          "base_uri": "https://localhost:8080/"
        },
        "id": "QKf79iNbabRw",
        "outputId": "c157f3d7-8060-4d3c-e2b1-3e4829cc08f9"
      },
      "execution_count": 93,
      "outputs": [
        {
          "output_type": "stream",
          "name": "stdout",
          "text": [
            "+----+------------+------+------+---------+-----------+---------------+\n",
            "|S.no|Student_Name|Branch|Course|  College|   Location|ExamForm Status|\n",
            "+----+------------+------+------+---------+-----------+---------------+\n",
            "|  10|       Rohit|    EE| MTech|     JIT |     BHOPAL|      Submitted|\n",
            "|  11|       Rahul|    CS| MTech|     BIT |     INDORE|      Submitted|\n",
            "|  12|      Ramesh|    AG| BTech|     SIT |   JABALPUR|      Submitted|\n",
            "|  13|        Renu|    EC| BTech|     MIT |     UJJAIN|      Submitted|\n",
            "|  14|        Riya|    CS| BTech|     TIT |     BHOPAL|      Submitted|\n",
            "|  15|   Vaishnavi|    CH| BTech|     KIT |     RANCHI|      Submitted|\n",
            "|  16|      Shelly|    BT| MTech|     PIT |    GWALIOR|      Submitted|\n",
            "|  17|     Ashwini|    DS| MTech|    RGPV |     BHOPAL|      Submitted|\n",
            "|  18|   Sravanthi|    DE| MTech|MEDICAPS |     INDORE|      Submitted|\n",
            "|  19|        Ajay|  MECH| BTech|    CGDI |     INDORE|      Submitted|\n",
            "|  20|    Karunesh|  Mech| BTech|     PCE |      SURAT|      Submitted|\n",
            "|  21|      Vinita|    CE| MTech|     IIT |     BOMBAY|      Submitted|\n",
            "|  22|       Ramya|    EC| MTech|     NIT |     JAIPUR|      Submitted|\n",
            "|  23|    Shobhita|    CS| BTech|     NIT |     TRICHY|      Submitted|\n",
            "|  24|Vaitheeswari|    HR|   MBA|     SDPC|      DELHI|      Submitted|\n",
            "|  25|     Manobhi|    BT| MTech|     NIT | CHANDIGARH|      Submitted|\n",
            "|  26|    Sushmita|    CH| MTech|     IIT |     MADRAS|      Submitted|\n",
            "|  27|        Maya|    EE| BTech|    IIIT |KANCHIPURAM|      Submitted|\n",
            "|  28|      Mahesh|    CS| MTech|   KCIET |BHUBNESHWAR|      Submitted|\n",
            "|  29|     Sreeram|    ET| BTech|    MPCE |    LUCKNOW|      Submitted|\n",
            "+----+------------+------+------+---------+-----------+---------------+\n",
            "only showing top 20 rows\n",
            "\n"
          ]
        }
      ]
    },
    {
      "cell_type": "code",
      "source": [
        "df2.filter(col('Location') =='INDORE').show()"
      ],
      "metadata": {
        "colab": {
          "base_uri": "https://localhost:8080/"
        },
        "id": "8To9nqytayL0",
        "outputId": "2ff18dd7-acc7-4239-e0dd-0a2e39c85dc1"
      },
      "execution_count": 48,
      "outputs": [
        {
          "output_type": "stream",
          "name": "stdout",
          "text": [
            "+----+------------+------+------+---------+--------+---------------+\n",
            "|S.no|Student_Name|Branch|Course|  College|Location|ExamForm Status|\n",
            "+----+------------+------+------+---------+--------+---------------+\n",
            "|  11|       Rahul|    CS| MTech|     BIT |  INDORE|      Submitted|\n",
            "|  18|   Sravanthi|    DE| MTech|MEDICAPS |  INDORE|      Submitted|\n",
            "|  19|        Ajay|  MECH| BTech|    CGDI |  INDORE|      Submitted|\n",
            "+----+------------+------+------+---------+--------+---------------+\n",
            "\n"
          ]
        }
      ]
    },
    {
      "cell_type": "code",
      "source": [
        "df2.where(col('Branch')=='EE').show()"
      ],
      "metadata": {
        "colab": {
          "base_uri": "https://localhost:8080/"
        },
        "id": "LE6zkB8jbUKh",
        "outputId": "9fb100a6-bb85-4414-a52f-b61afe79c45f"
      },
      "execution_count": 50,
      "outputs": [
        {
          "output_type": "stream",
          "name": "stdout",
          "text": [
            "+----+------------+------+------+-------+-----------+---------------+\n",
            "|S.no|Student_Name|Branch|Course|College|   Location|ExamForm Status|\n",
            "+----+------------+------+------+-------+-----------+---------------+\n",
            "|  10|       Rohit|    EE| MTech|   JIT |     BHOPAL|      Submitted|\n",
            "|  27|        Maya|    EE| BTech|  IIIT |KANCHIPURAM|      Submitted|\n",
            "+----+------------+------+------+-------+-----------+---------------+\n",
            "\n"
          ]
        }
      ]
    },
    {
      "cell_type": "code",
      "source": [
        "df"
      ],
      "metadata": {
        "colab": {
          "base_uri": "https://localhost:8080/"
        },
        "id": "0nKerPdHbkKt",
        "outputId": "c0a29715-8207-420a-fa0e-222f20d73cf9"
      },
      "execution_count": 51,
      "outputs": [
        {
          "output_type": "execute_result",
          "data": {
            "text/plain": [
              "DataFrame[S.no: string, S_Name: string, Branch: string, Course: string, College: string, Location: string]"
            ]
          },
          "metadata": {},
          "execution_count": 51
        }
      ]
    },
    {
      "cell_type": "code",
      "source": [
        "df3 = df.withColumnRenamed('S.no',\"id\")"
      ],
      "metadata": {
        "id": "SlL_h9J4obAq"
      },
      "execution_count": 106,
      "outputs": []
    },
    {
      "cell_type": "code",
      "source": [
        "df3.show()"
      ],
      "metadata": {
        "id": "1gS_-I_Fv4jt",
        "outputId": "3e7547ed-7ef8-4eb5-b016-f8597457438b",
        "colab": {
          "base_uri": "https://localhost:8080/"
        }
      },
      "execution_count": 107,
      "outputs": [
        {
          "output_type": "stream",
          "name": "stdout",
          "text": [
            "+---+------------+------+------+---------+-----------+\n",
            "| id|      S_Name|Branch|Course|  College|   Location|\n",
            "+---+------------+------+------+---------+-----------+\n",
            "| 10|       Rohit|    EE| MTech|     JIT |     BHOPAL|\n",
            "| 11|       Rahul|    CS| MTech|     BIT |     INDORE|\n",
            "| 12|      Ramesh|    AG| BTech|     SIT |   JABALPUR|\n",
            "| 13|        Renu|    EC| BTech|     MIT |     UJJAIN|\n",
            "| 14|        Riya|    CS| BTech|     TIT |     BHOPAL|\n",
            "| 15|   Vaishnavi|    CH| BTech|     KIT |     RANCHI|\n",
            "| 16|      Shelly|    BT| MTech|     PIT |    GWALIOR|\n",
            "| 17|     Ashwini|    DS| MTech|    RGPV |     BHOPAL|\n",
            "| 18|   Sravanthi|    DE| MTech|MEDICAPS |     INDORE|\n",
            "| 19|        Ajay|  MECH| BTech|    CGDI |     INDORE|\n",
            "| 20|    Karunesh|  Mech| BTech|     PCE |      SURAT|\n",
            "| 21|      Vinita|    CE| MTech|     IIT |     BOMBAY|\n",
            "| 22|       Ramya|    EC| MTech|     NIT |     JAIPUR|\n",
            "| 23|    Shobhita|    CS| BTech|     NIT |     TRICHY|\n",
            "| 24|Vaitheeswari|    HR|   MBA|     SDPC|      DELHI|\n",
            "| 25|     Manobhi|    BT| MTech|     NIT | CHANDIGARH|\n",
            "| 26|    Sushmita|    CH| MTech|     IIT |     MADRAS|\n",
            "| 27|        Maya|    EE| BTech|    IIIT |KANCHIPURAM|\n",
            "| 28|      Mahesh|    CS| MTech|   KCIET |BHUBNESHWAR|\n",
            "| 29|     Sreeram|    ET| BTech|    MPCE |    LUCKNOW|\n",
            "+---+------------+------+------+---------+-----------+\n",
            "only showing top 20 rows\n",
            "\n"
          ]
        }
      ]
    }
  ]
}
{
  "nbformat": 4,
  "nbformat_minor": 0,
  "metadata": {
    "colab": {
      "provenance": [],
      "authorship_tag": "ABX9TyMl52DtxJudbiE/KvV692kn",
      "include_colab_link": true
    },
    "kernelspec": {
      "name": "python3",
      "display_name": "Python 3"
    },
    "language_info": {
      "name": "python"
    }
  },
  "cells": [
    {
      "cell_type": "markdown",
      "metadata": {
        "id": "view-in-github",
        "colab_type": "text"
      },
      "source": [
        "<a href=\"https://colab.research.google.com/github/RDE0509/mycodes/blob/main/Spark_joints.ipynb\" target=\"_parent\"><img src=\"https://colab.research.google.com/assets/colab-badge.svg\" alt=\"Open In Colab\"/></a>"
      ]
    },
    {
      "cell_type": "code",
      "execution_count": null,
      "metadata": {
        "colab": {
          "base_uri": "https://localhost:8080/"
        },
        "id": "VymBFelrK5on",
        "outputId": "746d4cc2-4fa4-45d8-91ac-e352049d99d4"
      },
      "outputs": [
        {
          "output_type": "stream",
          "name": "stdout",
          "text": [
            "Looking in indexes: https://pypi.org/simple, https://us-python.pkg.dev/colab-wheels/public/simple/\n",
            "Requirement already satisfied: pyspark in /usr/local/lib/python3.8/dist-packages (3.3.1)\n",
            "Requirement already satisfied: py4j==0.10.9.5 in /usr/local/lib/python3.8/dist-packages (from pyspark) (0.10.9.5)\n"
          ]
        }
      ],
      "source": [
        "pip install pyspark"
      ]
    },
    {
      "cell_type": "code",
      "source": [
        "from pyspark.sql import SparkSession\n",
        "from pyspark.sql import functions"
      ],
      "metadata": {
        "id": "ki9VbyOvLUIo"
      },
      "execution_count": null,
      "outputs": []
    },
    {
      "cell_type": "code",
      "source": [
        "spark= SparkSession.builder.appName(\"test\").getOrCreate()"
      ],
      "metadata": {
        "id": "XWhdenuCDAI5"
      },
      "execution_count": null,
      "outputs": []
    },
    {
      "cell_type": "code",
      "source": [
        "data = [[\"1\", \"sravan\", \"company 1\"],\n",
        "        [\"2\", \"ojaswi\", \"company 1\"], \n",
        "        [\"3\", \"rohith\", \"company 2\"],\n",
        "        [\"4\", \"sridevi\", \"company 1\"], \n",
        "        [\"5\", \"bobby\", \"company 1\"]]\n",
        "  "
      ],
      "metadata": {
        "id": "VHXH5HPNDYxs"
      },
      "execution_count": null,
      "outputs": []
    },
    {
      "cell_type": "code",
      "source": [
        "columns = ['ID', 'NAME', 'Company']"
      ],
      "metadata": {
        "id": "q0ACdueLEr0G"
      },
      "execution_count": null,
      "outputs": []
    },
    {
      "cell_type": "markdown",
      "source": [
        "# New Section"
      ],
      "metadata": {
        "id": "Oav-QF-AQHsS"
      }
    },
    {
      "cell_type": "code",
      "source": [
        "df = spark.createDataFrame(data=data,schema=columns)"
      ],
      "metadata": {
        "id": "ysuCQqUIEtDc"
      },
      "execution_count": null,
      "outputs": []
    },
    {
      "cell_type": "code",
      "source": [
        "df.show()"
      ],
      "metadata": {
        "colab": {
          "base_uri": "https://localhost:8080/"
        },
        "id": "veSQdnqjFNci",
        "outputId": "4f026719-b8aa-4bda-d641-bb090bfd904d"
      },
      "execution_count": null,
      "outputs": [
        {
          "output_type": "stream",
          "name": "stdout",
          "text": [
            "+---+-------+---------+\n",
            "| ID|   NAME|  Company|\n",
            "+---+-------+---------+\n",
            "|  1| sravan|company 1|\n",
            "|  2| ojaswi|company 1|\n",
            "|  3| rohith|company 2|\n",
            "|  4|sridevi|company 1|\n",
            "|  5|  bobby|company 1|\n",
            "+---+-------+---------+\n",
            "\n"
          ]
        }
      ]
    },
    {
      "cell_type": "code",
      "source": [
        "data1 = [[\"1\", \"45000\", \"IT\"],\n",
        "         [\"2\", \"145000\", \"Manager\"],\n",
        "         [\"6\", \"45000\", \"HR\"],\n",
        "         [\"5\", \"34000\", \"Sales\"]]"
      ],
      "metadata": {
        "id": "HURSmQ4xFUCl"
      },
      "execution_count": null,
      "outputs": []
    },
    {
      "cell_type": "code",
      "source": [
        "columns1 = ['ID', 'salary', 'department']"
      ],
      "metadata": {
        "id": "Ctdxrb5cFsQm"
      },
      "execution_count": null,
      "outputs": []
    },
    {
      "cell_type": "code",
      "source": [
        "df1 = spark.createDataFrame(data1,columns1)"
      ],
      "metadata": {
        "id": "jUkxK5vvFt4D"
      },
      "execution_count": null,
      "outputs": []
    },
    {
      "cell_type": "code",
      "source": [
        "df1.show()"
      ],
      "metadata": {
        "colab": {
          "base_uri": "https://localhost:8080/"
        },
        "id": "w1T3K9CbGA03",
        "outputId": "d5d82266-6aa2-498a-aa47-f13f13a1af28"
      },
      "execution_count": null,
      "outputs": [
        {
          "output_type": "stream",
          "name": "stdout",
          "text": [
            "+---+------+----------+\n",
            "| ID|salary|department|\n",
            "+---+------+----------+\n",
            "|  1| 45000|        IT|\n",
            "|  2|145000|   Manager|\n",
            "|  6| 45000|        HR|\n",
            "|  5| 34000|     Sales|\n",
            "+---+------+----------+\n",
            "\n"
          ]
        }
      ]
    },
    {
      "cell_type": "code",
      "source": [
        "df3 = df.join(df1)"
      ],
      "metadata": {
        "id": "6N6QO-vAGEQp"
      },
      "execution_count": null,
      "outputs": []
    },
    {
      "cell_type": "code",
      "source": [
        "df3.show()"
      ],
      "metadata": {
        "colab": {
          "base_uri": "https://localhost:8080/"
        },
        "id": "pY56lmJIGPB3",
        "outputId": "1594e7a7-e911-482d-ed1a-396df76d94c1"
      },
      "execution_count": null,
      "outputs": [
        {
          "output_type": "stream",
          "name": "stdout",
          "text": [
            "+---+-------+---------+---+------+----------+\n",
            "| ID|   NAME|  Company| ID|salary|department|\n",
            "+---+-------+---------+---+------+----------+\n",
            "|  1| sravan|company 1|  1| 45000|        IT|\n",
            "|  1| sravan|company 1|  2|145000|   Manager|\n",
            "|  2| ojaswi|company 1|  1| 45000|        IT|\n",
            "|  2| ojaswi|company 1|  2|145000|   Manager|\n",
            "|  1| sravan|company 1|  6| 45000|        HR|\n",
            "|  1| sravan|company 1|  5| 34000|     Sales|\n",
            "|  2| ojaswi|company 1|  6| 45000|        HR|\n",
            "|  2| ojaswi|company 1|  5| 34000|     Sales|\n",
            "|  3| rohith|company 2|  1| 45000|        IT|\n",
            "|  3| rohith|company 2|  2|145000|   Manager|\n",
            "|  4|sridevi|company 1|  1| 45000|        IT|\n",
            "|  4|sridevi|company 1|  2|145000|   Manager|\n",
            "|  5|  bobby|company 1|  1| 45000|        IT|\n",
            "|  5|  bobby|company 1|  2|145000|   Manager|\n",
            "|  3| rohith|company 2|  6| 45000|        HR|\n",
            "|  3| rohith|company 2|  5| 34000|     Sales|\n",
            "|  4|sridevi|company 1|  6| 45000|        HR|\n",
            "|  4|sridevi|company 1|  5| 34000|     Sales|\n",
            "|  5|  bobby|company 1|  6| 45000|        HR|\n",
            "|  5|  bobby|company 1|  5| 34000|     Sales|\n",
            "+---+-------+---------+---+------+----------+\n",
            "\n"
          ]
        }
      ]
    },
    {
      "cell_type": "code",
      "source": [
        "df3.count()"
      ],
      "metadata": {
        "colab": {
          "base_uri": "https://localhost:8080/"
        },
        "id": "AQvHDqlXGXQ8",
        "outputId": "943705db-7a56-47cb-c410-e375355767a7"
      },
      "execution_count": null,
      "outputs": [
        {
          "output_type": "execute_result",
          "data": {
            "text/plain": [
              "20"
            ]
          },
          "metadata": {},
          "execution_count": 151
        }
      ]
    },
    {
      "cell_type": "code",
      "source": [
        "df.join(df1,df.ID==df1.ID).show()"
      ],
      "metadata": {
        "colab": {
          "base_uri": "https://localhost:8080/"
        },
        "id": "CGdxVs6NGpTY",
        "outputId": "163bf6e1-d741-498e-88b9-98332e0a4558"
      },
      "execution_count": null,
      "outputs": [
        {
          "output_type": "stream",
          "name": "stdout",
          "text": [
            "+---+------+---------+---+------+----------+\n",
            "| ID|  NAME|  Company| ID|salary|department|\n",
            "+---+------+---------+---+------+----------+\n",
            "|  1|sravan|company 1|  1| 45000|        IT|\n",
            "|  2|ojaswi|company 1|  2|145000|   Manager|\n",
            "|  5| bobby|company 1|  5| 34000|     Sales|\n",
            "+---+------+---------+---+------+----------+\n",
            "\n"
          ]
        }
      ]
    },
    {
      "cell_type": "code",
      "source": [
        "df.join(df1,df.ID==df1.ID,'left').show()"
      ],
      "metadata": {
        "colab": {
          "base_uri": "https://localhost:8080/"
        },
        "id": "x7caPwovH1_u",
        "outputId": "131e8dbb-6e2b-4da5-da26-4e22372bdc30"
      },
      "execution_count": null,
      "outputs": [
        {
          "output_type": "stream",
          "name": "stdout",
          "text": [
            "+---+-------+---------+----+------+----------+\n",
            "| ID|   NAME|  Company|  ID|salary|department|\n",
            "+---+-------+---------+----+------+----------+\n",
            "|  1| sravan|company 1|   1| 45000|        IT|\n",
            "|  2| ojaswi|company 1|   2|145000|   Manager|\n",
            "|  3| rohith|company 2|null|  null|      null|\n",
            "|  5|  bobby|company 1|   5| 34000|     Sales|\n",
            "|  4|sridevi|company 1|null|  null|      null|\n",
            "+---+-------+---------+----+------+----------+\n",
            "\n"
          ]
        }
      ]
    },
    {
      "cell_type": "code",
      "source": [
        "df.join(df1,df.ID==df1.ID,'right').show()"
      ],
      "metadata": {
        "colab": {
          "base_uri": "https://localhost:8080/"
        },
        "id": "zSqmxAtcIbgx",
        "outputId": "b6f847e1-0394-42ed-ec20-c469e4655da9"
      },
      "execution_count": null,
      "outputs": [
        {
          "output_type": "stream",
          "name": "stdout",
          "text": [
            "+----+------+---------+---+------+----------+\n",
            "|  ID|  NAME|  Company| ID|salary|department|\n",
            "+----+------+---------+---+------+----------+\n",
            "|   1|sravan|company 1|  1| 45000|        IT|\n",
            "|   2|ojaswi|company 1|  2|145000|   Manager|\n",
            "|   5| bobby|company 1|  5| 34000|     Sales|\n",
            "|null|  null|     null|  6| 45000|        HR|\n",
            "+----+------+---------+---+------+----------+\n",
            "\n"
          ]
        }
      ]
    },
    {
      "cell_type": "code",
      "source": [
        "df.join(df1,df.ID==df1.ID,'outer').show()"
      ],
      "metadata": {
        "colab": {
          "base_uri": "https://localhost:8080/"
        },
        "id": "Tj_ndpQZIi3w",
        "outputId": "abbc0381-57a4-49f4-f3eb-f3377d2cdcd3"
      },
      "execution_count": null,
      "outputs": [
        {
          "output_type": "stream",
          "name": "stdout",
          "text": [
            "+----+-------+---------+----+------+----------+\n",
            "|  ID|   NAME|  Company|  ID|salary|department|\n",
            "+----+-------+---------+----+------+----------+\n",
            "|   1| sravan|company 1|   1| 45000|        IT|\n",
            "|   2| ojaswi|company 1|   2|145000|   Manager|\n",
            "|   3| rohith|company 2|null|  null|      null|\n",
            "|   4|sridevi|company 1|null|  null|      null|\n",
            "|   5|  bobby|company 1|   5| 34000|     Sales|\n",
            "|null|   null|     null|   6| 45000|        HR|\n",
            "+----+-------+---------+----+------+----------+\n",
            "\n"
          ]
        }
      ]
    },
    {
      "cell_type": "code",
      "source": [
        "df.join(df1,df.ID==df1.ID,'fullouter').show()"
      ],
      "metadata": {
        "colab": {
          "base_uri": "https://localhost:8080/"
        },
        "id": "uq-MSawuIsOe",
        "outputId": "570bfa4c-5368-4448-c85b-bbda8c742f37"
      },
      "execution_count": null,
      "outputs": [
        {
          "output_type": "stream",
          "name": "stdout",
          "text": [
            "+----+-------+---------+----+------+----------+\n",
            "|  ID|   NAME|  Company|  ID|salary|department|\n",
            "+----+-------+---------+----+------+----------+\n",
            "|   1| sravan|company 1|   1| 45000|        IT|\n",
            "|   2| ojaswi|company 1|   2|145000|   Manager|\n",
            "|   3| rohith|company 2|null|  null|      null|\n",
            "|   4|sridevi|company 1|null|  null|      null|\n",
            "|   5|  bobby|company 1|   5| 34000|     Sales|\n",
            "|null|   null|     null|   6| 45000|        HR|\n",
            "+----+-------+---------+----+------+----------+\n",
            "\n"
          ]
        }
      ]
    },
    {
      "cell_type": "code",
      "source": [
        "df.join(df1,df.ID==df1.ID,'full').show()"
      ],
      "metadata": {
        "colab": {
          "base_uri": "https://localhost:8080/"
        },
        "id": "P0HarjTnI0WM",
        "outputId": "baf75dde-564a-4066-a130-f3a3332b26fe"
      },
      "execution_count": null,
      "outputs": [
        {
          "output_type": "stream",
          "name": "stdout",
          "text": [
            "+----+-------+---------+----+------+----------+\n",
            "|  ID|   NAME|  Company|  ID|salary|department|\n",
            "+----+-------+---------+----+------+----------+\n",
            "|   1| sravan|company 1|   1| 45000|        IT|\n",
            "|   2| ojaswi|company 1|   2|145000|   Manager|\n",
            "|   3| rohith|company 2|null|  null|      null|\n",
            "|   4|sridevi|company 1|null|  null|      null|\n",
            "|   5|  bobby|company 1|   5| 34000|     Sales|\n",
            "|null|   null|     null|   6| 45000|        HR|\n",
            "+----+-------+---------+----+------+----------+\n",
            "\n"
          ]
        }
      ]
    },
    {
      "cell_type": "code",
      "source": [],
      "metadata": {
        "id": "zq9LqgbhI8oq"
      },
      "execution_count": null,
      "outputs": []
    },
    {
      "cell_type": "code",
      "source": [
        "df.join(df1,df.ID==df1.ID,'cross').show()"
      ],
      "metadata": {
        "colab": {
          "base_uri": "https://localhost:8080/"
        },
        "id": "XwNLh5h6I_K7",
        "outputId": "9517e35b-b66c-4437-86a0-d7ae1ee71e42"
      },
      "execution_count": null,
      "outputs": [
        {
          "output_type": "stream",
          "name": "stdout",
          "text": [
            "+---+------+---------+---+------+----------+\n",
            "| ID|  NAME|  Company| ID|salary|department|\n",
            "+---+------+---------+---+------+----------+\n",
            "|  1|sravan|company 1|  1| 45000|        IT|\n",
            "|  2|ojaswi|company 1|  2|145000|   Manager|\n",
            "|  5| bobby|company 1|  5| 34000|     Sales|\n",
            "+---+------+---------+---+------+----------+\n",
            "\n"
          ]
        }
      ]
    },
    {
      "cell_type": "code",
      "source": [
        "df.join(df1,df.ID==df1.ID,'semi').show()"
      ],
      "metadata": {
        "id": "_MwfP7AyKtZI",
        "outputId": "83115d4e-6a4c-4e8f-f092-db6086520228",
        "colab": {
          "base_uri": "https://localhost:8080/"
        }
      },
      "execution_count": null,
      "outputs": [
        {
          "output_type": "stream",
          "name": "stdout",
          "text": [
            "+---+------+---------+\n",
            "| ID|  NAME|  Company|\n",
            "+---+------+---------+\n",
            "|  1|sravan|company 1|\n",
            "|  2|ojaswi|company 1|\n",
            "|  5| bobby|company 1|\n",
            "+---+------+---------+\n",
            "\n"
          ]
        }
      ]
    }
  ]
}
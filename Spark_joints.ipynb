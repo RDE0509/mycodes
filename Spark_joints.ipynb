{
  "nbformat": 4,
  "nbformat_minor": 0,
  "metadata": {
    "colab": {
      "provenance": [],
      "authorship_tag": "ABX9TyMn/xV4gwJGfMjpg7up9Kp+",
      "include_colab_link": true
    },
    "kernelspec": {
      "name": "python3",
      "display_name": "Python 3"
    },
    "language_info": {
      "name": "python"
    }
  },
  "cells": [
    {
      "cell_type": "markdown",
      "metadata": {
        "id": "view-in-github",
        "colab_type": "text"
      },
      "source": [
        "<a href=\"https://colab.research.google.com/github/RDE0509/mycodes/blob/main/Spark_joints.ipynb\" target=\"_parent\"><img src=\"https://colab.research.google.com/assets/colab-badge.svg\" alt=\"Open In Colab\"/></a>"
      ]
    },
    {
      "cell_type": "code",
      "execution_count": 3,
      "metadata": {
        "colab": {
          "base_uri": "https://localhost:8080/"
        },
        "id": "VymBFelrK5on",
        "outputId": "a584278f-542d-4c9a-d49a-b218fec02c61"
      },
      "outputs": [
        {
          "output_type": "stream",
          "name": "stdout",
          "text": [
            "Looking in indexes: https://pypi.org/simple, https://us-python.pkg.dev/colab-wheels/public/simple/\n",
            "Collecting pyspark\n",
            "  Downloading pyspark-3.3.1.tar.gz (281.4 MB)\n",
            "\u001b[K     |████████████████████████████████| 281.4 MB 37 kB/s \n",
            "\u001b[?25hCollecting py4j==0.10.9.5\n",
            "  Downloading py4j-0.10.9.5-py2.py3-none-any.whl (199 kB)\n",
            "\u001b[K     |████████████████████████████████| 199 kB 29.2 MB/s \n",
            "\u001b[?25hBuilding wheels for collected packages: pyspark\n",
            "  Building wheel for pyspark (setup.py) ... \u001b[?25l\u001b[?25hdone\n",
            "  Created wheel for pyspark: filename=pyspark-3.3.1-py2.py3-none-any.whl size=281845512 sha256=5e3dcbff6efb28778313df4a1963cc38b0abd4dd63bb8703ea647af44aa6c096\n",
            "  Stored in directory: /root/.cache/pip/wheels/43/dc/11/ec201cd671da62fa9c5cc77078235e40722170ceba231d7598\n",
            "Successfully built pyspark\n",
            "Installing collected packages: py4j, pyspark\n",
            "Successfully installed py4j-0.10.9.5 pyspark-3.3.1\n"
          ]
        }
      ],
      "source": [
        "pip install pyspark"
      ]
    },
    {
      "cell_type": "code",
      "source": [
        "from pyspark.sql import SparkSession\n",
        "from pyspark.sql import functions\n",
        "from pyspark.sql.functions import *"
      ],
      "metadata": {
        "id": "ki9VbyOvLUIo"
      },
      "execution_count": 26,
      "outputs": []
    },
    {
      "cell_type": "code",
      "source": [
        "spark= SparkSession.builder.appName(\"test\").getOrCreate()"
      ],
      "metadata": {
        "id": "XWhdenuCDAI5"
      },
      "execution_count": 11,
      "outputs": []
    },
    {
      "cell_type": "code",
      "source": [
        "data = [[\"1\", \"sravan\", \"company 1\"],\n",
        "        [\"2\", \"ojaswi\", \"company 1\"], \n",
        "        [\"3\", \"rohith\", \"company 2\"],\n",
        "        [\"4\", \"sridevi\", \"company 1\"], \n",
        "        [\"5\", \"bobby\", \"company 1\"]]\n",
        "  "
      ],
      "metadata": {
        "id": "VHXH5HPNDYxs"
      },
      "execution_count": 5,
      "outputs": []
    },
    {
      "cell_type": "code",
      "source": [
        "columns = ['ID1', 'NAME', 'Company']"
      ],
      "metadata": {
        "id": "q0ACdueLEr0G"
      },
      "execution_count": 30,
      "outputs": []
    },
    {
      "cell_type": "markdown",
      "source": [
        "# New Section"
      ],
      "metadata": {
        "id": "Oav-QF-AQHsS"
      }
    },
    {
      "cell_type": "code",
      "source": [
        "df = spark.createDataFrame(data=data,schema=columns)"
      ],
      "metadata": {
        "id": "ysuCQqUIEtDc"
      },
      "execution_count": 31,
      "outputs": []
    },
    {
      "cell_type": "code",
      "source": [
        "df.show()"
      ],
      "metadata": {
        "colab": {
          "base_uri": "https://localhost:8080/"
        },
        "id": "veSQdnqjFNci",
        "outputId": "5e8978ed-415a-43dd-bf30-9d4fac4d04a9"
      },
      "execution_count": 32,
      "outputs": [
        {
          "output_type": "stream",
          "name": "stdout",
          "text": [
            "+---+-------+---------+\n",
            "|ID1|   NAME|  Company|\n",
            "+---+-------+---------+\n",
            "|  1| sravan|company 1|\n",
            "|  2| ojaswi|company 1|\n",
            "|  3| rohith|company 2|\n",
            "|  4|sridevi|company 1|\n",
            "|  5|  bobby|company 1|\n",
            "+---+-------+---------+\n",
            "\n"
          ]
        }
      ]
    },
    {
      "cell_type": "code",
      "source": [
        "data1 = [[\"1\", \"45000\", \"IT\"],\n",
        "         [\"2\", \"145000\", \"Manager\"],\n",
        "         [\"6\", \"45000\", \"HR\"],\n",
        "         [\"5\", \"34000\", \"Sales\"]]"
      ],
      "metadata": {
        "id": "HURSmQ4xFUCl"
      },
      "execution_count": 33,
      "outputs": []
    },
    {
      "cell_type": "code",
      "source": [
        "columns1 = ['ID', 'salary', 'department']"
      ],
      "metadata": {
        "id": "Ctdxrb5cFsQm"
      },
      "execution_count": 34,
      "outputs": []
    },
    {
      "cell_type": "code",
      "source": [
        "df1 = spark.createDataFrame(data1,columns1)"
      ],
      "metadata": {
        "id": "jUkxK5vvFt4D"
      },
      "execution_count": 36,
      "outputs": []
    },
    {
      "cell_type": "code",
      "source": [
        "df1.show()"
      ],
      "metadata": {
        "colab": {
          "base_uri": "https://localhost:8080/"
        },
        "id": "w1T3K9CbGA03",
        "outputId": "a9114136-0481-487f-c23f-15c43838cf44"
      },
      "execution_count": 35,
      "outputs": [
        {
          "output_type": "stream",
          "name": "stdout",
          "text": [
            "+---+------+----------+\n",
            "| ID|salary|department|\n",
            "+---+------+----------+\n",
            "|  1| 45000|        IT|\n",
            "|  2|145000|   Manager|\n",
            "|  6| 45000|        HR|\n",
            "|  5| 34000|     Sales|\n",
            "+---+------+----------+\n",
            "\n"
          ]
        }
      ]
    },
    {
      "cell_type": "code",
      "source": [
        "df3 = df.join(df1)"
      ],
      "metadata": {
        "id": "6N6QO-vAGEQp"
      },
      "execution_count": 37,
      "outputs": []
    },
    {
      "cell_type": "code",
      "source": [
        "df3.show()"
      ],
      "metadata": {
        "colab": {
          "base_uri": "https://localhost:8080/"
        },
        "id": "pY56lmJIGPB3",
        "outputId": "7fdd5a75-9f31-4ed8-9837-e4849223279d"
      },
      "execution_count": 38,
      "outputs": [
        {
          "output_type": "stream",
          "name": "stdout",
          "text": [
            "+---+-------+---------+---+------+----------+\n",
            "|ID1|   NAME|  Company| ID|salary|department|\n",
            "+---+-------+---------+---+------+----------+\n",
            "|  1| sravan|company 1|  1| 45000|        IT|\n",
            "|  1| sravan|company 1|  2|145000|   Manager|\n",
            "|  2| ojaswi|company 1|  1| 45000|        IT|\n",
            "|  2| ojaswi|company 1|  2|145000|   Manager|\n",
            "|  1| sravan|company 1|  6| 45000|        HR|\n",
            "|  1| sravan|company 1|  5| 34000|     Sales|\n",
            "|  2| ojaswi|company 1|  6| 45000|        HR|\n",
            "|  2| ojaswi|company 1|  5| 34000|     Sales|\n",
            "|  3| rohith|company 2|  1| 45000|        IT|\n",
            "|  3| rohith|company 2|  2|145000|   Manager|\n",
            "|  4|sridevi|company 1|  1| 45000|        IT|\n",
            "|  4|sridevi|company 1|  2|145000|   Manager|\n",
            "|  5|  bobby|company 1|  1| 45000|        IT|\n",
            "|  5|  bobby|company 1|  2|145000|   Manager|\n",
            "|  3| rohith|company 2|  6| 45000|        HR|\n",
            "|  3| rohith|company 2|  5| 34000|     Sales|\n",
            "|  4|sridevi|company 1|  6| 45000|        HR|\n",
            "|  4|sridevi|company 1|  5| 34000|     Sales|\n",
            "|  5|  bobby|company 1|  6| 45000|        HR|\n",
            "|  5|  bobby|company 1|  5| 34000|     Sales|\n",
            "+---+-------+---------+---+------+----------+\n",
            "\n"
          ]
        }
      ]
    },
    {
      "cell_type": "code",
      "source": [
        "df3.select('ID',\"NAME\",\"Company\",'department').show()"
      ],
      "metadata": {
        "id": "xeKH2dOJZjeI",
        "outputId": "2dd9d9c8-cfc8-4d07-d3c6-585b85dc0053",
        "colab": {
          "base_uri": "https://localhost:8080/"
        }
      },
      "execution_count": 39,
      "outputs": [
        {
          "output_type": "stream",
          "name": "stdout",
          "text": [
            "+---+-------+---------+----------+\n",
            "| ID|   NAME|  Company|department|\n",
            "+---+-------+---------+----------+\n",
            "|  1| sravan|company 1|        IT|\n",
            "|  2| sravan|company 1|   Manager|\n",
            "|  1| ojaswi|company 1|        IT|\n",
            "|  2| ojaswi|company 1|   Manager|\n",
            "|  6| sravan|company 1|        HR|\n",
            "|  5| sravan|company 1|     Sales|\n",
            "|  6| ojaswi|company 1|        HR|\n",
            "|  5| ojaswi|company 1|     Sales|\n",
            "|  1| rohith|company 2|        IT|\n",
            "|  2| rohith|company 2|   Manager|\n",
            "|  1|sridevi|company 1|        IT|\n",
            "|  2|sridevi|company 1|   Manager|\n",
            "|  1|  bobby|company 1|        IT|\n",
            "|  2|  bobby|company 1|   Manager|\n",
            "|  6| rohith|company 2|        HR|\n",
            "|  5| rohith|company 2|     Sales|\n",
            "|  6|sridevi|company 1|        HR|\n",
            "|  5|sridevi|company 1|     Sales|\n",
            "|  6|  bobby|company 1|        HR|\n",
            "|  5|  bobby|company 1|     Sales|\n",
            "+---+-------+---------+----------+\n",
            "\n"
          ]
        }
      ]
    },
    {
      "cell_type": "code",
      "source": [
        "df3.count()"
      ],
      "metadata": {
        "colab": {
          "base_uri": "https://localhost:8080/"
        },
        "id": "AQvHDqlXGXQ8",
        "outputId": "943705db-7a56-47cb-c410-e375355767a7"
      },
      "execution_count": null,
      "outputs": [
        {
          "output_type": "execute_result",
          "data": {
            "text/plain": [
              "20"
            ]
          },
          "metadata": {},
          "execution_count": 151
        }
      ]
    },
    {
      "cell_type": "code",
      "source": [
        "df.join(df1,df.ID1==df1.ID).show()"
      ],
      "metadata": {
        "colab": {
          "base_uri": "https://localhost:8080/"
        },
        "id": "CGdxVs6NGpTY",
        "outputId": "19d67e63-fb41-4b13-c858-30c8c1864f85"
      },
      "execution_count": 41,
      "outputs": [
        {
          "output_type": "stream",
          "name": "stdout",
          "text": [
            "+---+------+---------+---+------+----------+\n",
            "|ID1|  NAME|  Company| ID|salary|department|\n",
            "+---+------+---------+---+------+----------+\n",
            "|  1|sravan|company 1|  1| 45000|        IT|\n",
            "|  2|ojaswi|company 1|  2|145000|   Manager|\n",
            "|  5| bobby|company 1|  5| 34000|     Sales|\n",
            "+---+------+---------+---+------+----------+\n",
            "\n"
          ]
        }
      ]
    },
    {
      "cell_type": "code",
      "source": [
        "df.join(df1,df.ID1==df1.ID,'left').show()"
      ],
      "metadata": {
        "colab": {
          "base_uri": "https://localhost:8080/"
        },
        "id": "x7caPwovH1_u",
        "outputId": "f0a3e551-b81d-4dff-aecc-6d4a273e888d"
      },
      "execution_count": 42,
      "outputs": [
        {
          "output_type": "stream",
          "name": "stdout",
          "text": [
            "+---+-------+---------+----+------+----------+\n",
            "|ID1|   NAME|  Company|  ID|salary|department|\n",
            "+---+-------+---------+----+------+----------+\n",
            "|  1| sravan|company 1|   1| 45000|        IT|\n",
            "|  2| ojaswi|company 1|   2|145000|   Manager|\n",
            "|  3| rohith|company 2|null|  null|      null|\n",
            "|  5|  bobby|company 1|   5| 34000|     Sales|\n",
            "|  4|sridevi|company 1|null|  null|      null|\n",
            "+---+-------+---------+----+------+----------+\n",
            "\n"
          ]
        }
      ]
    },
    {
      "cell_type": "code",
      "source": [
        "df.join(df1,df.ID1==df1.ID,'right').show()"
      ],
      "metadata": {
        "colab": {
          "base_uri": "https://localhost:8080/"
        },
        "id": "zSqmxAtcIbgx",
        "outputId": "5f34eede-9a1e-4c70-ee87-d004314f2e7d"
      },
      "execution_count": 43,
      "outputs": [
        {
          "output_type": "stream",
          "name": "stdout",
          "text": [
            "+----+------+---------+---+------+----------+\n",
            "| ID1|  NAME|  Company| ID|salary|department|\n",
            "+----+------+---------+---+------+----------+\n",
            "|   1|sravan|company 1|  1| 45000|        IT|\n",
            "|   2|ojaswi|company 1|  2|145000|   Manager|\n",
            "|   5| bobby|company 1|  5| 34000|     Sales|\n",
            "|null|  null|     null|  6| 45000|        HR|\n",
            "+----+------+---------+---+------+----------+\n",
            "\n"
          ]
        }
      ]
    },
    {
      "cell_type": "code",
      "source": [
        "df.join(df1,df.ID1==df1.ID,'outer').show()"
      ],
      "metadata": {
        "colab": {
          "base_uri": "https://localhost:8080/"
        },
        "id": "Tj_ndpQZIi3w",
        "outputId": "5fa20dd1-e283-4d20-e9b1-c8b5eccee906"
      },
      "execution_count": 44,
      "outputs": [
        {
          "output_type": "stream",
          "name": "stdout",
          "text": [
            "+----+-------+---------+----+------+----------+\n",
            "| ID1|   NAME|  Company|  ID|salary|department|\n",
            "+----+-------+---------+----+------+----------+\n",
            "|   1| sravan|company 1|   1| 45000|        IT|\n",
            "|   2| ojaswi|company 1|   2|145000|   Manager|\n",
            "|   3| rohith|company 2|null|  null|      null|\n",
            "|   4|sridevi|company 1|null|  null|      null|\n",
            "|   5|  bobby|company 1|   5| 34000|     Sales|\n",
            "|null|   null|     null|   6| 45000|        HR|\n",
            "+----+-------+---------+----+------+----------+\n",
            "\n"
          ]
        }
      ]
    },
    {
      "cell_type": "code",
      "source": [
        "df.join(df1,df.ID1==df1.ID,'fullouter').show()"
      ],
      "metadata": {
        "colab": {
          "base_uri": "https://localhost:8080/"
        },
        "id": "uq-MSawuIsOe",
        "outputId": "8c78c7f1-d26e-4cdf-e746-799de555eeb0"
      },
      "execution_count": 45,
      "outputs": [
        {
          "output_type": "stream",
          "name": "stdout",
          "text": [
            "+----+-------+---------+----+------+----------+\n",
            "| ID1|   NAME|  Company|  ID|salary|department|\n",
            "+----+-------+---------+----+------+----------+\n",
            "|   1| sravan|company 1|   1| 45000|        IT|\n",
            "|   2| ojaswi|company 1|   2|145000|   Manager|\n",
            "|   3| rohith|company 2|null|  null|      null|\n",
            "|   4|sridevi|company 1|null|  null|      null|\n",
            "|   5|  bobby|company 1|   5| 34000|     Sales|\n",
            "|null|   null|     null|   6| 45000|        HR|\n",
            "+----+-------+---------+----+------+----------+\n",
            "\n"
          ]
        }
      ]
    },
    {
      "cell_type": "code",
      "source": [
        "df.join(df1,df.ID1==df1.ID,'full').show()"
      ],
      "metadata": {
        "colab": {
          "base_uri": "https://localhost:8080/"
        },
        "id": "P0HarjTnI0WM",
        "outputId": "ca10d525-2084-4869-95c5-b37ee4a6a43f"
      },
      "execution_count": 46,
      "outputs": [
        {
          "output_type": "stream",
          "name": "stdout",
          "text": [
            "+----+-------+---------+----+------+----------+\n",
            "| ID1|   NAME|  Company|  ID|salary|department|\n",
            "+----+-------+---------+----+------+----------+\n",
            "|   1| sravan|company 1|   1| 45000|        IT|\n",
            "|   2| ojaswi|company 1|   2|145000|   Manager|\n",
            "|   3| rohith|company 2|null|  null|      null|\n",
            "|   4|sridevi|company 1|null|  null|      null|\n",
            "|   5|  bobby|company 1|   5| 34000|     Sales|\n",
            "|null|   null|     null|   6| 45000|        HR|\n",
            "+----+-------+---------+----+------+----------+\n",
            "\n"
          ]
        }
      ]
    },
    {
      "cell_type": "code",
      "source": [],
      "metadata": {
        "id": "zq9LqgbhI8oq"
      },
      "execution_count": null,
      "outputs": []
    },
    {
      "cell_type": "code",
      "source": [
        "df.join(df1,df.ID1==df1.ID,'cross').show()"
      ],
      "metadata": {
        "colab": {
          "base_uri": "https://localhost:8080/"
        },
        "id": "XwNLh5h6I_K7",
        "outputId": "42834656-a72b-427d-cf8b-7ed8ef5fdf0d"
      },
      "execution_count": 47,
      "outputs": [
        {
          "output_type": "stream",
          "name": "stdout",
          "text": [
            "+---+------+---------+---+------+----------+\n",
            "|ID1|  NAME|  Company| ID|salary|department|\n",
            "+---+------+---------+---+------+----------+\n",
            "|  1|sravan|company 1|  1| 45000|        IT|\n",
            "|  2|ojaswi|company 1|  2|145000|   Manager|\n",
            "|  5| bobby|company 1|  5| 34000|     Sales|\n",
            "+---+------+---------+---+------+----------+\n",
            "\n"
          ]
        }
      ]
    },
    {
      "cell_type": "code",
      "source": [
        "df.join(df1,df.ID1==df1.ID,'semi').show()"
      ],
      "metadata": {
        "id": "_MwfP7AyKtZI",
        "outputId": "9fe93597-fa5e-454d-f552-59bb3be40c4d",
        "colab": {
          "base_uri": "https://localhost:8080/"
        }
      },
      "execution_count": 48,
      "outputs": [
        {
          "output_type": "stream",
          "name": "stdout",
          "text": [
            "+---+------+---------+\n",
            "|ID1|  NAME|  Company|\n",
            "+---+------+---------+\n",
            "|  1|sravan|company 1|\n",
            "|  2|ojaswi|company 1|\n",
            "|  5| bobby|company 1|\n",
            "+---+------+---------+\n",
            "\n"
          ]
        }
      ]
    },
    {
      "cell_type": "code",
      "source": [
        "df.join(df1,df.ID1==df1.ID,'left_anti').show()"
      ],
      "metadata": {
        "id": "cOPsR7CpdfuQ",
        "outputId": "87ef1f84-1417-4f7d-a135-1ad34ea58521",
        "colab": {
          "base_uri": "https://localhost:8080/"
        }
      },
      "execution_count": 50,
      "outputs": [
        {
          "output_type": "stream",
          "name": "stdout",
          "text": [
            "+---+-------+---------+\n",
            "|ID1|   NAME|  Company|\n",
            "+---+-------+---------+\n",
            "|  3| rohith|company 2|\n",
            "|  4|sridevi|company 1|\n",
            "+---+-------+---------+\n",
            "\n"
          ]
        }
      ]
    },
    {
      "cell_type": "code",
      "source": [
        "df.show()"
      ],
      "metadata": {
        "id": "Zj2G5EpedwOV",
        "outputId": "155a72f8-eaff-4a1d-8967-d8d79ad486e8",
        "colab": {
          "base_uri": "https://localhost:8080/"
        }
      },
      "execution_count": 51,
      "outputs": [
        {
          "output_type": "stream",
          "name": "stdout",
          "text": [
            "+---+-------+---------+\n",
            "|ID1|   NAME|  Company|\n",
            "+---+-------+---------+\n",
            "|  1| sravan|company 1|\n",
            "|  2| ojaswi|company 1|\n",
            "|  3| rohith|company 2|\n",
            "|  4|sridevi|company 1|\n",
            "|  5|  bobby|company 1|\n",
            "+---+-------+---------+\n",
            "\n"
          ]
        }
      ]
    },
    {
      "cell_type": "code",
      "source": [
        "df1.show()"
      ],
      "metadata": {
        "id": "oaGp15vEd1Bv",
        "outputId": "ce605457-6d00-40ac-fe64-414d25476828",
        "colab": {
          "base_uri": "https://localhost:8080/"
        }
      },
      "execution_count": 52,
      "outputs": [
        {
          "output_type": "stream",
          "name": "stdout",
          "text": [
            "+---+------+----------+\n",
            "| ID|salary|department|\n",
            "+---+------+----------+\n",
            "|  1| 45000|        IT|\n",
            "|  2|145000|   Manager|\n",
            "|  6| 45000|        HR|\n",
            "|  5| 34000|     Sales|\n",
            "+---+------+----------+\n",
            "\n"
          ]
        }
      ]
    },
    {
      "cell_type": "code",
      "source": [
        "df.join(df1,df.ID1==df1.ID,'right_outer').show()"
      ],
      "metadata": {
        "id": "J3AARfEAeB1B",
        "outputId": "66eb71ac-84f2-40b1-b78e-cc3252785716",
        "colab": {
          "base_uri": "https://localhost:8080/"
        }
      },
      "execution_count": 55,
      "outputs": [
        {
          "output_type": "stream",
          "name": "stdout",
          "text": [
            "+----+------+---------+---+------+----------+\n",
            "| ID1|  NAME|  Company| ID|salary|department|\n",
            "+----+------+---------+---+------+----------+\n",
            "|   1|sravan|company 1|  1| 45000|        IT|\n",
            "|   2|ojaswi|company 1|  2|145000|   Manager|\n",
            "|   5| bobby|company 1|  5| 34000|     Sales|\n",
            "|null|  null|     null|  6| 45000|        HR|\n",
            "+----+------+---------+---+------+----------+\n",
            "\n"
          ]
        }
      ]
    },
    {
      "cell_type": "code",
      "source": [],
      "metadata": {
        "id": "1hhZQ6LLebAl"
      },
      "execution_count": null,
      "outputs": []
    }
  ]
}